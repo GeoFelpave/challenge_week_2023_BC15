{
 "cells": [
  {
   "attachments": {},
   "cell_type": "markdown",
   "metadata": {},
   "source": [
    "# Bristol City Analysis - Challenge Week\n",
    "Notebook created as part of the work during the Geospatial CDT challenge week 2023"
   ]
  }
 ],
 "metadata": {
  "language_info": {
   "name": "python"
  },
  "orig_nbformat": 4
 },
 "nbformat": 4,
 "nbformat_minor": 2
}
